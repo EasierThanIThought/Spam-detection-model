{
  "nbformat": 4,
  "nbformat_minor": 0,
  "metadata": {
    "colab": {
      "name": "SocialAnalZachet.ipynb",
      "provenance": [],
      "collapsed_sections": []
    },
    "kernelspec": {
      "name": "python3",
      "display_name": "Python 3"
    },
    "language_info": {
      "name": "python"
    }
  },
  "cells": [
    {
      "cell_type": "markdown",
      "source": [
        "# Краткое введение "
      ],
      "metadata": {
        "id": "8wlElWylBACV"
      }
    },
    {
      "cell_type": "markdown",
      "source": [
        "В качестве исходного набора данных используется предварительно обработанный датасет Task_1_prepprocessed.csv, далее строится модель для определения, является ли сообщение спамом."
      ],
      "metadata": {
        "id": "THeOtQLf87vG"
      }
    },
    {
      "cell_type": "markdown",
      "source": [
        "Удаление строк, содержащих пропущенные значения, разделение датасета на тренировочный и тестовый набор данных с параметрами test_size = 0.35, random_state = 30. Обучение трех классификаторов RandomForestClassifier, использующих данные, полученные различными алгоритмами векторизации, при n_estimators = 9, n_jobs = 10 и random_state = 30 на обучающей выборке и произведение оценки полученной модели на тестовой."
      ],
      "metadata": {
        "id": "Yt77Lic_-IKt"
      }
    },
    {
      "cell_type": "markdown",
      "source": [
        "Текст в STR взят из файла txt_for_test.txt"
      ],
      "metadata": {
        "id": "MQYH7HUjAe9v"
      }
    },
    {
      "cell_type": "code",
      "execution_count": null,
      "metadata": {
        "id": "U2U_JPYknQzW"
      },
      "outputs": [],
      "source": [
        "TEST_SIZE = 0.35\n",
        "RANDOM_STATE_1 = 30\n",
        "\n",
        "N_ESTIMATORS = 9\n",
        "N_JOBS = 10\n",
        "RANDOM_STATE = 30\n",
        "\n",
        "STR = \"Market Price Volatility May 1-3, 2002 o Houston, TX Click Here To Download A Complete Conference Brochure http://www.pmaconference.com/mpv5_pma.pdf THIS IN-DEPTH TECHNICAL PROGRAM WILL SHOW YOU HOW TO: o How to Measure, Model, and Estimate Volatility o How to Model Price Volatility Using Financial Models o How to Use Blended Models Incorporating Fundamental Drivers o How to Apply Volatility Modeling to Today's Market Conditions: Full Requirements Contracts, Operating Performance of Generation Portfolios, Impacts of ISO Market Mitigation Infocast's highly regarded Market Price Volatility is a tightly-focused program specifically designed to attack the problems of modeling volatility in today's energy markets. It will provide you with the tools and insights you'll need to get and maintain an edge in assessing and managing volatility. The program will first provide you with an in-depth examination of sound market-based analytical processes and modeling techniques to accurately represent volatility, then will show you how these techniques are being applied to solving advanced energy market problems. TOPICS AND SPEAKERS INCLUDE: Estimating and Modeling Electricity and Fuel Price Volatility: A Comparison of Approaches Richard L. Carlson, Ph.D., Consulting Project Manager, Henwood Energy Services, Inc. Modeling Volatility Using Multi-Factor Models: A Practitioner's Approach Ionel Birgean, Director, Quantitative Analysis, Risk Management, PG&E National Energy Group Market-Based Price Forecasts: Integrating Fundamental and Market Components Sandra L. Ringelstetter Ennis, Executive Vice President, e-Acumen Advisory Services Are Price Spikes in Electricity Markets Predictable? Yumei Ning, Manager, Quantitative Analysis, Calpine Corporation Working Towards a Realistic Model to Price Generation Assets and Electricity Derivatives Michael Pierce, Ph.D., Financial Engineer, FEA Modeling Volatility: Mirant's Approaches Vance C. Mullis, Director of Market Evaluation Tools, Mirant Americas Summer 2001 Price Volatility in New England: Market Rules and Remedies Robert Ethier, Manager, Market Monitoring and Mitigation, ISO New England, Inc. An Integrated Approach to Modeling Price Uncertainty Mike King, Managing Partner, PA Consulting GROUP PRECONFERENCE WORKSHOP: Measuring, Modeling and Estimating Price Volatility Wednesday, May 1, 2002 o 8:00 AM-5:00 PM -Defining and Measuring Volatility -Modeling Volatility -Estimating Volatility -Issues in Modeling Volatility -Roundtable on Volatility Click Here To Download A Complete Conference Brochure http://www.pmaconference.com/mpv5_pma.pdf Presented By Infocast This email has been sent to michelle.lokay@enron.com, by PowerMarketers.com. Visit our Subscription Center to edit your interests or unsubscribe. http://ccprod.roving.com/roving/d.jsp?p=oo&m=1000838503237&ea=michelle.lokay@enron.com View our privacy policy: http://ccprod.roving.com/roving/CCPrivacyPolicy.jsp Powered by Constant Contact(R) www.constantcontact.com\""
      ]
    },
    {
      "cell_type": "code",
      "source": [
        "avg_1 = 'macro'\n",
        "avg_2 = 'macro'\n",
        "avg_3 = 'macro'"
      ],
      "metadata": {
        "id": "kEEGD8YvoA7T"
      },
      "execution_count": null,
      "outputs": []
    },
    {
      "cell_type": "markdown",
      "source": [
        "# Генерация датасетов"
      ],
      "metadata": {
        "id": "3aShNBPnA2pN"
      }
    },
    {
      "cell_type": "code",
      "source": [
        "import pandas as pd\n",
        "import numpy as np\n",
        "from sklearn.model_selection import train_test_split\n",
        "from sklearn.feature_extraction.text import TfidfVectorizer\n",
        "from sklearn.ensemble import RandomForestClassifier\n",
        "from sklearn.metrics import confusion_matrix\n",
        "from sklearn.metrics import precision_score\n",
        "from sklearn.metrics import classification_report\n",
        "import scipy as sp"
      ],
      "metadata": {
        "id": "z77YLQbroIAa"
      },
      "execution_count": null,
      "outputs": []
    },
    {
      "cell_type": "markdown",
      "source": [
        "Считывание обработанного датасета, удаление всех строк с пропусками"
      ],
      "metadata": {
        "id": "kShuicTgBX21"
      }
    },
    {
      "cell_type": "code",
      "source": [
        "df = pd.read_csv('Task_1_prepprocessed.csv')\n",
        "df = df.dropna()\n",
        "df"
      ],
      "metadata": {
        "colab": {
          "base_uri": "https://localhost:8080/",
          "height": 1000
        },
        "id": "V0LFEji8oJNO",
        "outputId": "63d6b910-d76d-478e-b6db-cc61e445a12f"
      },
      "execution_count": null,
      "outputs": [
        {
          "output_type": "execute_result",
          "data": {
            "text/plain": [
              "       class  date                                         from  \\\n",
              "0          0     4                       info@global-change.com   \n",
              "1          0     1                       info@pmaconference.com   \n",
              "2          0     6                       info@pmaconference.com   \n",
              "3          0     3                          bruno@firstconf.com   \n",
              "4          0     1                 deanrogers@energyclasses.com   \n",
              "...      ...   ...                                          ...   \n",
              "30687      1     3     jacob rzucidlo <lavoneaker@stalag13.com>   \n",
              "30688      1     5       hal leake <annettgaskell@buglover.net>   \n",
              "30689      1     2  dr collins khumalo <khumalo_20@sunumail.sn>   \n",
              "30690      1     6      Customer Support <support@citibank.com>   \n",
              "30691      1     6     Tapanga Cribbin <James_Lam@cnwl.igs.net>   \n",
              "\n",
              "                                               to  \\\n",
              "0                        michelle.lokay@enron.com   \n",
              "1                        michelle.lokay@enron.com   \n",
              "2                        michelle.lokay@enron.com   \n",
              "3                    energynews@fc.ease.lsoft.com   \n",
              "4                        michelle.lokay@enron.com   \n",
              "...                                           ...   \n",
              "30687     johnny wynott <varou@iit.demokritos.gr>   \n",
              "30688  renato mooney <sigletos@iit.demokritos.gr>   \n",
              "30689                      khumalo_20@sunumail.sn   \n",
              "30690       Paliourg <paliourg@iit.demokritos.gr>   \n",
              "30691                  paliourg@iit.demokritos.gr   \n",
              "\n",
              "                                  subject  \\\n",
              "0                  next wave energi trade   \n",
              "1           regist next txu capac auction   \n",
              "2       merchant power monthli free sampl   \n",
              "3                      eyeforenergi updat   \n",
              "4      deriv earli bird til march houston   \n",
              "...                                   ...   \n",
              "30687       cpu pain m edicati n ship d r   \n",
              "30688                    dn troubl f r ee   \n",
              "30689                   dr collin khumalo   \n",
              "30690        dear custom detail compromis   \n",
              "30691                      fwd great news   \n",
              "\n",
              "                                                    body  \n",
              "0      energi industri profession global chang associ...  \n",
              "1      regist next txu energi capac auction new regis...  \n",
              "2      merchant power monthli month s issu almost mw ...  \n",
              "3      welcom week s eyeforenergi updat refresh memor...  \n",
              "4      deriv energi profession two full day april ear...  \n",
              "...                                                  ...  \n",
              "30687  arrghh west amnstv amlsmith basu petrom qureai...  \n",
              "30688  dn troubl f r ee angiospasma zekauskasa anarti...  \n",
              "30689  dr collin khumalo attn mr presid dr collin khu...  \n",
              "30690  dear custom detail compromis dear custom recen...  \n",
              "30691  state shall without consent congress lay impos...  \n",
              "\n",
              "[29890 rows x 6 columns]"
            ],
            "text/html": [
              "\n",
              "  <div id=\"df-95e7eeec-08be-49c5-ae1c-85dab247a017\">\n",
              "    <div class=\"colab-df-container\">\n",
              "      <div>\n",
              "<style scoped>\n",
              "    .dataframe tbody tr th:only-of-type {\n",
              "        vertical-align: middle;\n",
              "    }\n",
              "\n",
              "    .dataframe tbody tr th {\n",
              "        vertical-align: top;\n",
              "    }\n",
              "\n",
              "    .dataframe thead th {\n",
              "        text-align: right;\n",
              "    }\n",
              "</style>\n",
              "<table border=\"1\" class=\"dataframe\">\n",
              "  <thead>\n",
              "    <tr style=\"text-align: right;\">\n",
              "      <th></th>\n",
              "      <th>class</th>\n",
              "      <th>date</th>\n",
              "      <th>from</th>\n",
              "      <th>to</th>\n",
              "      <th>subject</th>\n",
              "      <th>body</th>\n",
              "    </tr>\n",
              "  </thead>\n",
              "  <tbody>\n",
              "    <tr>\n",
              "      <th>0</th>\n",
              "      <td>0</td>\n",
              "      <td>4</td>\n",
              "      <td>info@global-change.com</td>\n",
              "      <td>michelle.lokay@enron.com</td>\n",
              "      <td>next wave energi trade</td>\n",
              "      <td>energi industri profession global chang associ...</td>\n",
              "    </tr>\n",
              "    <tr>\n",
              "      <th>1</th>\n",
              "      <td>0</td>\n",
              "      <td>1</td>\n",
              "      <td>info@pmaconference.com</td>\n",
              "      <td>michelle.lokay@enron.com</td>\n",
              "      <td>regist next txu capac auction</td>\n",
              "      <td>regist next txu energi capac auction new regis...</td>\n",
              "    </tr>\n",
              "    <tr>\n",
              "      <th>2</th>\n",
              "      <td>0</td>\n",
              "      <td>6</td>\n",
              "      <td>info@pmaconference.com</td>\n",
              "      <td>michelle.lokay@enron.com</td>\n",
              "      <td>merchant power monthli free sampl</td>\n",
              "      <td>merchant power monthli month s issu almost mw ...</td>\n",
              "    </tr>\n",
              "    <tr>\n",
              "      <th>3</th>\n",
              "      <td>0</td>\n",
              "      <td>3</td>\n",
              "      <td>bruno@firstconf.com</td>\n",
              "      <td>energynews@fc.ease.lsoft.com</td>\n",
              "      <td>eyeforenergi updat</td>\n",
              "      <td>welcom week s eyeforenergi updat refresh memor...</td>\n",
              "    </tr>\n",
              "    <tr>\n",
              "      <th>4</th>\n",
              "      <td>0</td>\n",
              "      <td>1</td>\n",
              "      <td>deanrogers@energyclasses.com</td>\n",
              "      <td>michelle.lokay@enron.com</td>\n",
              "      <td>deriv earli bird til march houston</td>\n",
              "      <td>deriv energi profession two full day april ear...</td>\n",
              "    </tr>\n",
              "    <tr>\n",
              "      <th>...</th>\n",
              "      <td>...</td>\n",
              "      <td>...</td>\n",
              "      <td>...</td>\n",
              "      <td>...</td>\n",
              "      <td>...</td>\n",
              "      <td>...</td>\n",
              "    </tr>\n",
              "    <tr>\n",
              "      <th>30687</th>\n",
              "      <td>1</td>\n",
              "      <td>3</td>\n",
              "      <td>jacob rzucidlo &lt;lavoneaker@stalag13.com&gt;</td>\n",
              "      <td>johnny wynott &lt;varou@iit.demokritos.gr&gt;</td>\n",
              "      <td>cpu pain m edicati n ship d r</td>\n",
              "      <td>arrghh west amnstv amlsmith basu petrom qureai...</td>\n",
              "    </tr>\n",
              "    <tr>\n",
              "      <th>30688</th>\n",
              "      <td>1</td>\n",
              "      <td>5</td>\n",
              "      <td>hal leake &lt;annettgaskell@buglover.net&gt;</td>\n",
              "      <td>renato mooney &lt;sigletos@iit.demokritos.gr&gt;</td>\n",
              "      <td>dn troubl f r ee</td>\n",
              "      <td>dn troubl f r ee angiospasma zekauskasa anarti...</td>\n",
              "    </tr>\n",
              "    <tr>\n",
              "      <th>30689</th>\n",
              "      <td>1</td>\n",
              "      <td>2</td>\n",
              "      <td>dr collins khumalo &lt;khumalo_20@sunumail.sn&gt;</td>\n",
              "      <td>khumalo_20@sunumail.sn</td>\n",
              "      <td>dr collin khumalo</td>\n",
              "      <td>dr collin khumalo attn mr presid dr collin khu...</td>\n",
              "    </tr>\n",
              "    <tr>\n",
              "      <th>30690</th>\n",
              "      <td>1</td>\n",
              "      <td>6</td>\n",
              "      <td>Customer Support &lt;support@citibank.com&gt;</td>\n",
              "      <td>Paliourg &lt;paliourg@iit.demokritos.gr&gt;</td>\n",
              "      <td>dear custom detail compromis</td>\n",
              "      <td>dear custom detail compromis dear custom recen...</td>\n",
              "    </tr>\n",
              "    <tr>\n",
              "      <th>30691</th>\n",
              "      <td>1</td>\n",
              "      <td>6</td>\n",
              "      <td>Tapanga Cribbin &lt;James_Lam@cnwl.igs.net&gt;</td>\n",
              "      <td>paliourg@iit.demokritos.gr</td>\n",
              "      <td>fwd great news</td>\n",
              "      <td>state shall without consent congress lay impos...</td>\n",
              "    </tr>\n",
              "  </tbody>\n",
              "</table>\n",
              "<p>29890 rows × 6 columns</p>\n",
              "</div>\n",
              "      <button class=\"colab-df-convert\" onclick=\"convertToInteractive('df-95e7eeec-08be-49c5-ae1c-85dab247a017')\"\n",
              "              title=\"Convert this dataframe to an interactive table.\"\n",
              "              style=\"display:none;\">\n",
              "        \n",
              "  <svg xmlns=\"http://www.w3.org/2000/svg\" height=\"24px\"viewBox=\"0 0 24 24\"\n",
              "       width=\"24px\">\n",
              "    <path d=\"M0 0h24v24H0V0z\" fill=\"none\"/>\n",
              "    <path d=\"M18.56 5.44l.94 2.06.94-2.06 2.06-.94-2.06-.94-.94-2.06-.94 2.06-2.06.94zm-11 1L8.5 8.5l.94-2.06 2.06-.94-2.06-.94L8.5 2.5l-.94 2.06-2.06.94zm10 10l.94 2.06.94-2.06 2.06-.94-2.06-.94-.94-2.06-.94 2.06-2.06.94z\"/><path d=\"M17.41 7.96l-1.37-1.37c-.4-.4-.92-.59-1.43-.59-.52 0-1.04.2-1.43.59L10.3 9.45l-7.72 7.72c-.78.78-.78 2.05 0 2.83L4 21.41c.39.39.9.59 1.41.59.51 0 1.02-.2 1.41-.59l7.78-7.78 2.81-2.81c.8-.78.8-2.07 0-2.86zM5.41 20L4 18.59l7.72-7.72 1.47 1.35L5.41 20z\"/>\n",
              "  </svg>\n",
              "      </button>\n",
              "      \n",
              "  <style>\n",
              "    .colab-df-container {\n",
              "      display:flex;\n",
              "      flex-wrap:wrap;\n",
              "      gap: 12px;\n",
              "    }\n",
              "\n",
              "    .colab-df-convert {\n",
              "      background-color: #E8F0FE;\n",
              "      border: none;\n",
              "      border-radius: 50%;\n",
              "      cursor: pointer;\n",
              "      display: none;\n",
              "      fill: #1967D2;\n",
              "      height: 32px;\n",
              "      padding: 0 0 0 0;\n",
              "      width: 32px;\n",
              "    }\n",
              "\n",
              "    .colab-df-convert:hover {\n",
              "      background-color: #E2EBFA;\n",
              "      box-shadow: 0px 1px 2px rgba(60, 64, 67, 0.3), 0px 1px 3px 1px rgba(60, 64, 67, 0.15);\n",
              "      fill: #174EA6;\n",
              "    }\n",
              "\n",
              "    [theme=dark] .colab-df-convert {\n",
              "      background-color: #3B4455;\n",
              "      fill: #D2E3FC;\n",
              "    }\n",
              "\n",
              "    [theme=dark] .colab-df-convert:hover {\n",
              "      background-color: #434B5C;\n",
              "      box-shadow: 0px 1px 3px 1px rgba(0, 0, 0, 0.15);\n",
              "      filter: drop-shadow(0px 1px 2px rgba(0, 0, 0, 0.3));\n",
              "      fill: #FFFFFF;\n",
              "    }\n",
              "  </style>\n",
              "\n",
              "      <script>\n",
              "        const buttonEl =\n",
              "          document.querySelector('#df-95e7eeec-08be-49c5-ae1c-85dab247a017 button.colab-df-convert');\n",
              "        buttonEl.style.display =\n",
              "          google.colab.kernel.accessAllowed ? 'block' : 'none';\n",
              "\n",
              "        async function convertToInteractive(key) {\n",
              "          const element = document.querySelector('#df-95e7eeec-08be-49c5-ae1c-85dab247a017');\n",
              "          const dataTable =\n",
              "            await google.colab.kernel.invokeFunction('convertToInteractive',\n",
              "                                                     [key], {});\n",
              "          if (!dataTable) return;\n",
              "\n",
              "          const docLinkHtml = 'Like what you see? Visit the ' +\n",
              "            '<a target=\"_blank\" href=https://colab.research.google.com/notebooks/data_table.ipynb>data table notebook</a>'\n",
              "            + ' to learn more about interactive tables.';\n",
              "          element.innerHTML = '';\n",
              "          dataTable['output_type'] = 'display_data';\n",
              "          await google.colab.output.renderOutput(dataTable, element);\n",
              "          const docLink = document.createElement('div');\n",
              "          docLink.innerHTML = docLinkHtml;\n",
              "          element.appendChild(docLink);\n",
              "        }\n",
              "      </script>\n",
              "    </div>\n",
              "  </div>\n",
              "  "
            ]
          },
          "metadata": {},
          "execution_count": 22
        }
      ]
    },
    {
      "cell_type": "markdown",
      "source": [
        "Сравнение результаты, полученных при векторизации:"
      ],
      "metadata": {
        "id": "LkQzHDllBiq2"
      }
    },
    {
      "cell_type": "markdown",
      "source": [
        "Для базового алгоритма из загруженного датасета берется только колонка class с обозначением класса сообщения и колонка body."
      ],
      "metadata": {
        "id": "fFM88TpdBzOu"
      }
    },
    {
      "cell_type": "code",
      "source": [
        "x_train, x_test, y_train, y_test = train_test_split(\n",
        "    df.iloc[:, 5], df.iloc[:,0], test_size=TEST_SIZE, random_state=RANDOM_STATE_1)"
      ],
      "metadata": {
        "id": "p7dzkXnkoJPq"
      },
      "execution_count": null,
      "outputs": []
    },
    {
      "cell_type": "markdown",
      "source": [
        "Глубокая копия данных для их дальнейшего преобразования. Конкатенация колонок subject и body. При разделении копии на тренировочный и тестовый наборы используется random_state как для основого алгоритма."
      ],
      "metadata": {
        "id": "fIGoF5UMCDv2"
      }
    },
    {
      "cell_type": "code",
      "source": [
        "df_copy = df.copy(deep = True)\n",
        "\n",
        "for i in range(len(df_copy)):\n",
        "    if df.iat[i, 4] != '':\n",
        "        try:\n",
        "            df_copy.iat[i, 5] = df_copy.iat[i, 4] + ' ' + df_copy.iat[i, 5]\n",
        "        except:\n",
        "            print(\"Something got wrong!\")\n",
        "            \n",
        "x_train_b, x_test_b, _, _ = train_test_split(\n",
        "    df_copy.iloc[:, [1, 5]], df_copy.iloc[:,0], test_size=TEST_SIZE, random_state=RANDOM_STATE_1)\n",
        "\n",
        "# y_train_b и y_test_b совпадают с y_train, y_test. Хранить их отдельно надобности нет."
      ],
      "metadata": {
        "id": "TKHkL4zEoQqf"
      },
      "execution_count": null,
      "outputs": []
    },
    {
      "cell_type": "markdown",
      "source": [
        "#Генерация признаков"
      ],
      "metadata": {
        "id": "GmAoQprFCS53"
      }
    },
    {
      "cell_type": "markdown",
      "source": [
        "Составление словаря для базового алгоритма из тренировочного набора данных. Словарь используется для векторизации и генерации признаков TF-IDF. Затем этот же словарь используется в функции трансформации тестового набора. Предлагаемый класс TfidfVectorizer используется с параметрами по умолчанию."
      ],
      "metadata": {
        "id": "tdx6f8pOCYP2"
      }
    },
    {
      "cell_type": "code",
      "source": [
        "vectorizer_a = TfidfVectorizer()\n",
        "\n",
        "x_train_a = vectorizer_a.fit_transform(x_train)\n",
        "x_test_a = vectorizer_a.transform(x_test)"
      ],
      "metadata": {
        "id": "PrsAlllGoaD3"
      },
      "execution_count": null,
      "outputs": []
    },
    {
      "cell_type": "markdown",
      "source": [
        "Для модифицированного алгоритма, где используется день недели, векторизация производится на колонке конкатенированных темы письма и содержания. К результату выполнения векторизации добавляется колонка индексов дней недели. Векторизатор также инициализируется с параметрами по умолчанию."
      ],
      "metadata": {
        "id": "HtWAVubdCyy_"
      }
    },
    {
      "cell_type": "code",
      "source": [
        "vectorizer_b = TfidfVectorizer()\n",
        "# Добавление к полученной в результате векторизации разреженной матрице столбец со значениями дней недели\n",
        "x_train_b = sp.sparse.hstack((vectorizer_b.fit_transform(x_train_b.iloc[:, 1]), x_train_b.iloc[:, 0].values.reshape(len(x_train_b.iloc[:, 0]),1)))\n",
        "x_test_b = sp.sparse.hstack((vectorizer_b.transform(x_test_b.iloc[:, 1]), x_test_b.iloc[:, 0].values.reshape(len(x_test_b.iloc[:, 0]),1)))"
      ],
      "metadata": {
        "id": "_OPF7a0loaIX"
      },
      "execution_count": null,
      "outputs": []
    },
    {
      "cell_type": "markdown",
      "source": [
        "Третий сценарий, вместо слов используются биграммы для генерации признаков TF-IDF, при инициализации векторизатора указывается параметр ngram_range = (2, 2)."
      ],
      "metadata": {
        "id": "CjBV8pqxDAU-"
      }
    },
    {
      "cell_type": "code",
      "source": [
        "vectorizer_c = TfidfVectorizer(ngram_range = (2, 2))\n",
        "\n",
        "x_train_c = vectorizer_c.fit_transform(x_train)\n",
        "x_test_c = vectorizer_c.transform(x_test)"
      ],
      "metadata": {
        "id": "kwDvOA7koaK-"
      },
      "execution_count": null,
      "outputs": []
    },
    {
      "cell_type": "code",
      "source": [
        "strs = STR\n",
        "\n",
        "arr = pd.Series(strs)\n",
        "\n",
        "x_test_d = vectorizer_c.transform(arr)"
      ],
      "metadata": {
        "id": "YiKowxMdoaNn"
      },
      "execution_count": null,
      "outputs": []
    },
    {
      "cell_type": "markdown",
      "source": [
        "#Классификация "
      ],
      "metadata": {
        "id": "JDCGEo7FDHGQ"
      }
    },
    {
      "cell_type": "markdown",
      "source": [
        "Инициализация классификаторов с одинаковыми параметрами."
      ],
      "metadata": {
        "id": "7TcuYzb8DLeH"
      }
    },
    {
      "cell_type": "code",
      "source": [
        "rfc_a = RandomForestClassifier(random_state = RANDOM_STATE, n_jobs=N_JOBS, n_estimators=N_ESTIMATORS)\n",
        "rfc_b = RandomForestClassifier(random_state = RANDOM_STATE, n_jobs=N_JOBS, n_estimators=N_ESTIMATORS)\n",
        "rfc_c = RandomForestClassifier(random_state = RANDOM_STATE, n_jobs=N_JOBS, n_estimators=N_ESTIMATORS)\n",
        "\n",
        "rfc_a.fit(x_train_a, y_train)\n",
        "rfc_b.fit(x_train_b, y_train)\n",
        "rfc_c.fit(x_train_c, y_train)"
      ],
      "metadata": {
        "colab": {
          "base_uri": "https://localhost:8080/"
        },
        "id": "j3hO8zjVorO4",
        "outputId": "f071128e-269a-4d5a-9016-a081572d5c43"
      },
      "execution_count": null,
      "outputs": [
        {
          "output_type": "execute_result",
          "data": {
            "text/plain": [
              "RandomForestClassifier(n_estimators=9, n_jobs=10, random_state=30)"
            ]
          },
          "metadata": {},
          "execution_count": 29
        }
      ]
    },
    {
      "cell_type": "markdown",
      "source": [
        "# Расчет метрик"
      ],
      "metadata": {
        "id": "ZasrPj7tDRHL"
      }
    },
    {
      "cell_type": "markdown",
      "source": [
        "Предсказания на тестовых данных, оценка полученных моделей для трех случаев."
      ],
      "metadata": {
        "id": "w3B00kOpDT25"
      }
    },
    {
      "cell_type": "code",
      "source": [
        "y_pred_a = rfc_a.predict(x_test_a)\n",
        "y_pred_b = rfc_b.predict(x_test_b)\n",
        "y_pred_c = rfc_c.predict(x_test_c)\n",
        "\n",
        "\n",
        "print(classification_report(y_test, y_pred_a, digits=3))\n",
        "print(classification_report(y_test, y_pred_b, digits=3))\n",
        "print(classification_report(y_test, y_pred_c, digits=3))"
      ],
      "metadata": {
        "colab": {
          "base_uri": "https://localhost:8080/"
        },
        "id": "vDMzNaDXorRa",
        "outputId": "05cde3ae-3428-419e-f233-50db12014fbe"
      },
      "execution_count": null,
      "outputs": [
        {
          "output_type": "stream",
          "name": "stdout",
          "text": [
            "              precision    recall  f1-score   support\n",
            "\n",
            "           0      0.967     0.976     0.971      5577\n",
            "           1      0.973     0.962     0.967      4885\n",
            "\n",
            "    accuracy                          0.969     10462\n",
            "   macro avg      0.970     0.969     0.969     10462\n",
            "weighted avg      0.969     0.969     0.969     10462\n",
            "\n",
            "              precision    recall  f1-score   support\n",
            "\n",
            "           0      0.969     0.982     0.976      5577\n",
            "           1      0.979     0.965     0.972      4885\n",
            "\n",
            "    accuracy                          0.974     10462\n",
            "   macro avg      0.974     0.973     0.974     10462\n",
            "weighted avg      0.974     0.974     0.974     10462\n",
            "\n",
            "              precision    recall  f1-score   support\n",
            "\n",
            "           0      0.927     0.987     0.956      5577\n",
            "           1      0.983     0.911     0.946      4885\n",
            "\n",
            "    accuracy                          0.951     10462\n",
            "   macro avg      0.955     0.949     0.951     10462\n",
            "weighted avg      0.953     0.951     0.951     10462\n",
            "\n"
          ]
        }
      ]
    },
    {
      "cell_type": "markdown",
      "source": [
        "Пример: сравение первых двух сценириев с точки зрения FPR и precision. Для получения FPR достаточно сгенерировать confusion matrix и рассчитать его на основе значений из матрицы, в то время как precision может быть получен с помощью отдельной функции."
      ],
      "metadata": {
        "id": "YuQM4StSDdcf"
      }
    },
    {
      "cell_type": "code",
      "source": [
        "tn_a, fp_a, _, _  = confusion_matrix(y_test, y_pred_a).ravel()\n",
        "tn_b, fp_b, _, _ = confusion_matrix(y_test, y_pred_b).ravel()\n",
        "\n",
        "fpr_a = fp_a / (fp_a + tn_a)\n",
        "fpr_b = fp_b / (fp_b + tn_b)\n",
        "\n",
        "pr_a = precision_score(y_test, y_pred_a)\n",
        "pr_b = precision_score(y_test, y_pred_b)\n",
        "\n",
        "print(f'Difference in FPR: {fpr_b - fpr_a}')\n",
        "print(f'Difference in precision: {pr_b - pr_a}')"
      ],
      "metadata": {
        "colab": {
          "base_uri": "https://localhost:8080/"
        },
        "id": "RmjPcWQ7oaQE",
        "outputId": "5b228f4d-2e41-4e50-a600-2b503fcfc175"
      },
      "execution_count": null,
      "outputs": [
        {
          "output_type": "stream",
          "name": "stdout",
          "text": [
            "Difference in FPR: -0.005379236148466918\n",
            "Difference in precision: 0.006146650856035829\n"
          ]
        }
      ]
    },
    {
      "cell_type": "markdown",
      "source": [
        "#Оценка модели на тестовых данных"
      ],
      "metadata": {
        "id": "nwAmWVu-D7JB"
      }
    },
    {
      "cell_type": "markdown",
      "source": [
        "Использование TfidfVectorizer() на столбце body. Вывод метрик:\n",
        "\n",
        "\n",
        "* Precision (macro avg)\n",
        "* Recall (macro avg)\n",
        "* F-score (macro avg)\n",
        "\n",
        "\n",
        "\n",
        "\n",
        "\n",
        "\n",
        "\n"
      ],
      "metadata": {
        "id": "VrgdPIonDp4X"
      }
    },
    {
      "cell_type": "code",
      "source": [
        "from sklearn import metrics\n",
        "\n",
        "macro_precision, macro_recall, macro_f1, _support =\\\n",
        "    metrics.precision_recall_fscore_support(y_test, y_pred_a, average=avg_1)\n",
        "\n",
        "print(\"Macro avg\\n\\tprecision\\t{}\\n\\trecall\\t\\t{}\\n\\tf1 score\\t{}\\n\\n\".format(round(macro_precision, 3), round(macro_recall, 3), round(macro_f1, 3)))"
      ],
      "metadata": {
        "colab": {
          "base_uri": "https://localhost:8080/"
        },
        "id": "hCgHKP5GoxDh",
        "outputId": "f9b1ac66-14b9-4cd2-c1be-476b8d04584a"
      },
      "execution_count": null,
      "outputs": [
        {
          "output_type": "stream",
          "name": "stdout",
          "text": [
            "Macro avg\n",
            "\tprecision\t0.97\n",
            "\trecall\t\t0.969\n",
            "\tf1 score\t0.969\n",
            "\n",
            "\n"
          ]
        }
      ]
    },
    {
      "cell_type": "markdown",
      "source": [
        "Использование TfidfVectorizer() на объединенных в результате конкатенации столбцах subject и body. Дополение полученных предикторов столбцом с метками дней недели. Вывод метрик:\n",
        "\n",
        "\n",
        "* Precision (macro avg)\n",
        "* Recall (macro avg)\n",
        "* F-score (macro avg)"
      ],
      "metadata": {
        "id": "qpcMZiPdD5k9"
      }
    },
    {
      "cell_type": "code",
      "source": [
        "macro_precision, macro_recall, macro_f1, _support =\\\n",
        "    metrics.precision_recall_fscore_support(y_test, y_pred_b, average=avg_2)\n",
        "\n",
        "print(\"Macro avg\\n\\tprecision\\t{}\\n\\trecall\\t\\t{}\\n\\tf1 score\\t{}\\n\\n\".format(round(macro_precision, 3), round(macro_recall, 3), round(macro_f1, 3)))"
      ],
      "metadata": {
        "colab": {
          "base_uri": "https://localhost:8080/"
        },
        "id": "zG5rQveKoxF7",
        "outputId": "d82278d9-c0ba-457f-ce5e-e7e4448b0161"
      },
      "execution_count": null,
      "outputs": [
        {
          "output_type": "stream",
          "name": "stdout",
          "text": [
            "Macro avg\n",
            "\tprecision\t0.974\n",
            "\trecall\t\t0.973\n",
            "\tf1 score\t0.974\n",
            "\n",
            "\n"
          ]
        }
      ]
    },
    {
      "cell_type": "markdown",
      "source": [
        "Использование TfidfVectorizer() на колонке body с параметром ngram_range = (2, 2). Вывод метрик:\n",
        "\n",
        "\n",
        "* Precision (macro avg)\n",
        "* Recall (macro avg)\n",
        "* F-score (macro avg)"
      ],
      "metadata": {
        "id": "Zr7qqWN3Fb9w"
      }
    },
    {
      "cell_type": "code",
      "source": [
        "macro_precision, macro_recall, macro_f1, _support =\\\n",
        "    metrics.precision_recall_fscore_support(y_test, y_pred_c, average=avg_3)\n",
        "\n",
        "print(\"Macro avg\\n\\tprecision\\t{}\\n\\trecall\\t\\t{}\\n\\tf1 score\\t{}\\n\\n\".format(round(macro_precision, 3), round(macro_recall, 3), round(macro_f1, 3)))"
      ],
      "metadata": {
        "colab": {
          "base_uri": "https://localhost:8080/"
        },
        "id": "8ir2WW7mo4V3",
        "outputId": "0992b784-7c97-4b6e-a452-4c9c97f0269d"
      },
      "execution_count": null,
      "outputs": [
        {
          "output_type": "stream",
          "name": "stdout",
          "text": [
            "Macro avg\n",
            "\tprecision\t0.955\n",
            "\trecall\t\t0.949\n",
            "\tf1 score\t0.951\n",
            "\n",
            "\n"
          ]
        }
      ]
    },
    {
      "cell_type": "markdown",
      "source": [
        "Выполнение предсказания для текста txt_for_test.txt, с использованием последнего алгоритма."
      ],
      "metadata": {
        "id": "bwg9RPgfFg6l"
      }
    },
    {
      "cell_type": "code",
      "source": [
        "print(rfc_c.predict(x_test_d)[0])\n",
        "\n",
        "ans = round(rfc_c.predict_proba(x_test_d)[:, 1][0], 3)\n",
        "\n",
        "print(ans if ans > 0.5 else 1 - ans)"
      ],
      "metadata": {
        "colab": {
          "base_uri": "https://localhost:8080/"
        },
        "id": "Ho44oMYWo4ez",
        "outputId": "cc41a96e-e120-42a0-e515-a80ebe05ce89"
      },
      "execution_count": null,
      "outputs": [
        {
          "output_type": "stream",
          "name": "stdout",
          "text": [
            "0\n",
            "0.889\n"
          ]
        }
      ]
    }
  ]
}